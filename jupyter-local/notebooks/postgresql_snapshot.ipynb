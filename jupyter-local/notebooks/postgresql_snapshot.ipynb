{
 "cells": [
  {
   "cell_type": "markdown",
   "metadata": {},
   "source": [
    "# Warm up the Spark"
   ]
  },
  {
   "cell_type": "code",
   "execution_count": 1,
   "metadata": {},
   "outputs": [
    {
     "data": {
      "text/plain": [
       "rdd = ParallelCollectionRDD[0] at parallelize at <console>:27\n"
      ]
     },
     "metadata": {},
     "output_type": "display_data"
    },
    {
     "data": {
      "text/plain": [
       "Array(345, 893, 632, 510, 211)"
      ]
     },
     "execution_count": 1,
     "metadata": {},
     "output_type": "execute_result"
    }
   ],
   "source": [
    "val rdd = sc.parallelize(0 to 999)\n",
    "rdd.takeSample(false, 5)"
   ]
  },
  {
   "cell_type": "markdown",
   "metadata": {},
   "source": [
    "# Connect to the database"
   ]
  },
  {
   "cell_type": "code",
   "execution_count": 2,
   "metadata": {},
   "outputs": [
    {
     "data": {
      "text/plain": [
       "Name: java.lang.ClassNotFoundException\n",
       "Message: org.postgresql.Driver\n",
       "StackTrace:   at scala.reflect.internal.util.AbstractFileClassLoader.findClass(AbstractFileClassLoader.scala:62)\n",
       "  at java.lang.ClassLoader.loadClass(ClassLoader.java:424)\n",
       "  at java.lang.ClassLoader.loadClass(ClassLoader.java:357)\n",
       "  at java.lang.Class.forName0(Native Method)\n",
       "  at java.lang.Class.forName(Class.java:264)"
      ]
     },
     "execution_count": 2,
     "metadata": {},
     "output_type": "execute_result"
    }
   ],
   "source": [
    "val jdbcUrl = \"jdbc:postgresql://localhost:5432/postgres?searchpath=inventory\"\n",
    "val jdbcUser = \"postgres\"\n",
    "val jdbcPassword = \"postgres\"\n",
    "val driver = \"org.postgresql.Driver\"\n",
    "Class.forName(driver)\n",
    "\n",
    "\n",
    "\n",
    "// Load the class\n",
    "\n",
    "\n",
    "// val df = spark\n",
    "//   .sqlContext\n",
    "//   .read\n",
    "//   .format(\"jdbc\")\n",
    "//   .option(\"driver\", driver)\n",
    "//   .option(\"url\", jdbcUrl)\n",
    "//   .option(\"user\", jdbcUser)\n",
    "//   .option(\"password\", jdbcPassword)\n",
    "//   .option(\"dbtable\", tableName)\n",
    "//   .load()"
   ]
  },
  {
   "cell_type": "code",
   "execution_count": 3,
   "metadata": {},
   "outputs": [
    {
     "data": {
      "text/plain": [
       "lastException: Throwable = null\n"
      ]
     },
     "metadata": {},
     "output_type": "display_data"
    }
   ],
   "source": [
    "sc.addJar(\"/usr/local/spark/jar/postgresql-42.2.5.jar\")"
   ]
  },
  {
   "cell_type": "code",
   "execution_count": null,
   "metadata": {},
   "outputs": [],
   "source": []
  }
 ],
 "metadata": {
  "kernelspec": {
   "display_name": "Apache Toree - Scala",
   "language": "scala",
   "name": "apache_toree_scala"
  },
  "language_info": {
   "codemirror_mode": "text/x-scala",
   "file_extension": ".scala",
   "mimetype": "text/x-scala",
   "name": "scala",
   "pygments_lexer": "scala",
   "version": "2.11.12"
  }
 },
 "nbformat": 4,
 "nbformat_minor": 2
}
