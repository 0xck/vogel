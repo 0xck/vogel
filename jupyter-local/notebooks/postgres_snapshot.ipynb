{
 "cells": [
  {
   "cell_type": "markdown",
   "metadata": {},
   "source": [
    "# Prepare driver"
   ]
  },
  {
   "cell_type": "code",
   "execution_count": 1,
   "metadata": {},
   "outputs": [
    {
     "name": "stdout",
     "output_type": "stream",
     "text": [
      "--2019-06-26 16:01:17--  https://repo1.maven.org/maven2/org/postgresql/postgresql/42.2.5/postgresql-42.2.5.jar\n",
      "Resolving repo1.maven.org (repo1.maven.org)... 151.101.60.209\n",
      "Connecting to repo1.maven.org (repo1.maven.org)|151.101.60.209|:443... connected.\n",
      "HTTP request sent, awaiting response... 200 OK\n",
      "Length: 825943 (807K) [application/java-archive]\n",
      "Saving to: ‘/home/jovyan/postgresql-42.2.5.jar’\n",
      "\n",
      "postgresql-42.2.5.j 100%[===================>] 806.58K  3.96MB/s    in 0.2s    \n",
      "\n",
      "2019-06-26 16:01:18 (3.96 MB/s) - ‘/home/jovyan/postgresql-42.2.5.jar’ saved [825943/825943]\n",
      "\n"
     ]
    }
   ],
   "source": [
    "! wget -P /home/jovyan https://repo1.maven.org/maven2/org/postgresql/postgresql/42.2.5/postgresql-42.2.5.jar"
   ]
  },
  {
   "cell_type": "markdown",
   "metadata": {},
   "source": [
    "# Start spark application"
   ]
  },
  {
   "cell_type": "code",
   "execution_count": 2,
   "metadata": {},
   "outputs": [],
   "source": [
    "import os\n",
    "os.environ['PYSPARK_SUBMIT_ARGS'] = '--driver-class-path /home/jovyan/postgresql-42.2.5.jar --jars /home/jovyan/postgresql-42.2.5.jar pyspark-shell'\n",
    "\n",
    "import pyspark\n",
    "\n",
    "spark = pyspark.sql.SparkSession.builder \\\n",
    "        .master(\"local[1]\") \\\n",
    "        .appName(\"snapshot\") \\\n",
    "        .getOrCreate()"
   ]
  },
  {
   "cell_type": "markdown",
   "metadata": {},
   "source": [
    "# Warm-up spark"
   ]
  },
  {
   "cell_type": "code",
   "execution_count": 3,
   "metadata": {},
   "outputs": [
    {
     "data": {
      "text/plain": [
       "499500"
      ]
     },
     "execution_count": 3,
     "metadata": {},
     "output_type": "execute_result"
    }
   ],
   "source": [
    "spark.sparkContext.range(1000).sum()"
   ]
  },
  {
   "cell_type": "markdown",
   "metadata": {},
   "source": [
    "# Read some PostgreSQL Data"
   ]
  },
  {
   "cell_type": "code",
   "execution_count": 7,
   "metadata": {},
   "outputs": [
    {
     "name": "stdout",
     "output_type": "stream",
     "text": [
      "+----+----------+---------+--------------------+\n",
      "|  id|first_name|last_name|               email|\n",
      "+----+----------+---------+--------------------+\n",
      "|1004|      Anne|Kretchmar| toddevans@yahoo.com|\n",
      "|1009|    Amanda|   Hardin|crystal60@larsen-...|\n",
      "|1002|    George|   Bailey| iterrell@boyer.info|\n",
      "|1010|      Tina| Valencia| fjordan@hotmail.com|\n",
      "|1011|    Carlos|    Poole|kingjoshua@huerta...|\n",
      "|1007|     David| Cisneros|hendersonchristop...|\n",
      "|1003|    Edward|   Walker|xwhitehead@hotmai...|\n",
      "|1013|    Amanda|    Evans|azimmerman@gmail.com|\n",
      "|1015|   Richard|     Hale|sparrish@wallace.com|\n",
      "|1016|   Michael|   Larson|lindsey64@hotmail...|\n",
      "|1017|   Patrick| Williams|   zlawson@jones.com|\n",
      "|1014|   Phillip|     Rice|nrodriguez@love-k...|\n",
      "|1018|    Robert|    Watts|debbielowe@hotmai...|\n",
      "|1020|  Nicholas| Hamilton|jessicahodge@cook...|\n",
      "|1001|     Sally|   Thomas| umarshall@yahoo.com|\n",
      "|1021|    Lauren| Harrison|    nlewis@yahoo.com|\n",
      "+----+----------+---------+--------------------+\n",
      "\n"
     ]
    }
   ],
   "source": [
    "customers = spark.read.format('jdbc').options(\n",
    "        url = \"jdbc:postgresql://postgres:5432/postgres?user=postgres&password=postgres&currentSchema=inventory\",\n",
    "        database='postgres',\n",
    "        dbtable='customers'\n",
    "    ).load()\n",
    "\n",
    "customers.show()"
   ]
  },
  {
   "cell_type": "markdown",
   "metadata": {},
   "source": [
    "# Write snapshot to Data Lake"
   ]
  },
  {
   "cell_type": "code",
   "execution_count": 8,
   "metadata": {},
   "outputs": [],
   "source": [
    "customers.write.format(\"parquet\").save(\"/home/jovyan/customers_data\")"
   ]
  },
  {
   "cell_type": "code",
   "execution_count": 9,
   "metadata": {},
   "outputs": [],
   "source": [
    "spark.stop()"
   ]
  },
  {
   "cell_type": "code",
   "execution_count": null,
   "metadata": {},
   "outputs": [],
   "source": []
  }
 ],
 "metadata": {
  "kernelspec": {
   "display_name": "Python 3",
   "language": "python",
   "name": "python3"
  },
  "language_info": {
   "codemirror_mode": {
    "name": "ipython",
    "version": 3
   },
   "file_extension": ".py",
   "mimetype": "text/x-python",
   "name": "python",
   "nbconvert_exporter": "python",
   "pygments_lexer": "ipython3",
   "version": "3.7.3"
  }
 },
 "nbformat": 4,
 "nbformat_minor": 2
}
