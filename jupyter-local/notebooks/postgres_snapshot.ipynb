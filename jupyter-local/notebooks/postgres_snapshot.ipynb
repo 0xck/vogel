{
 "cells": [
  {
   "cell_type": "markdown",
   "metadata": {},
   "source": [
    "# Start spark application"
   ]
  },
  {
   "cell_type": "code",
   "execution_count": 1,
   "metadata": {},
   "outputs": [],
   "source": [
    "import os\n",
    "os.environ['PYSPARK_SUBMIT_ARGS'] = '--driver-class-path /home/jovyan/postgresql-42.2.5.jar --jars /home/jovyan/postgresql-42.2.5.jar pyspark-shell'\n",
    "\n",
    "import pyspark\n",
    "\n",
    "spark = pyspark.sql.SparkSession.builder \\\n",
    "        .master(\"local[*]\") \\\n",
    "        .getOrCreate()"
   ]
  },
  {
   "cell_type": "markdown",
   "metadata": {},
   "source": [
    "# Warm-up spark"
   ]
  },
  {
   "cell_type": "code",
   "execution_count": 10,
   "metadata": {},
   "outputs": [
    {
     "data": {
      "text/plain": [
       "499500"
      ]
     },
     "execution_count": 10,
     "metadata": {},
     "output_type": "execute_result"
    }
   ],
   "source": [
    "spark.sparkContext.range(1000).sum()"
   ]
  },
  {
   "cell_type": "markdown",
   "metadata": {},
   "source": [
    "# Read some PostgreSQL Data"
   ]
  },
  {
   "cell_type": "code",
   "execution_count": 92,
   "metadata": {},
   "outputs": [
    {
     "name": "stdout",
     "output_type": "stream",
     "text": [
      "+----+----------+---------+--------------------+\n",
      "|  id|first_name|last_name|               email|\n",
      "+----+----------+---------+--------------------+\n",
      "|1002|    George|   Bailey|  gbailey@foobar.com|\n",
      "|1009|     Keith|    Doyle|aparks@anderson-b...|\n",
      "|1004|      Anne|Kretchmar|allenkaren@hotmai...|\n",
      "|1018|    Daniel|    Smith|youngadrian@gmail...|\n",
      "|1022|   Caitlyn|   Ingram| aramirez@wiley.info|\n",
      "|1001|     Sally|   Thomas|megan39@robertson...|\n",
      "|1003|    Edward|   Walker| noahharvey@kemp.biz|\n",
      "|1026|     Peter|Rodriguez|williamtrujillo@h...|\n",
      "|1028| Dominique|  Ramirez|mpeterson@sandova...|\n",
      "|1029|   Anthony|   Graham|   tracy26@gmail.com|\n",
      "|1010|   Michael| Crawford|jefferyestrada@ho...|\n",
      "|1030|     Cindy|  Jackson|michael10@jackson...|\n",
      "|1020|   Jessica|    Mejia|     hhess@perez.com|\n",
      "|1032|    Leslie|  Spencer|mcgeerobert@gmail...|\n",
      "|1023|      Sara|    Allen|  kjohnson@yahoo.com|\n",
      "|1035|   Timothy|   Potter|vstevens@castillo...|\n",
      "|1037|     James|   Barron|sethmcgrath@henry...|\n",
      "|1038|    Alexis|   Harris|zimmermanashley@s...|\n",
      "|1033|     Laura|      Cox|andrew35@schmidt-...|\n",
      "|1039|     Shane|    Greer|coryyang@solomon.com|\n",
      "+----+----------+---------+--------------------+\n",
      "only showing top 20 rows\n",
      "\n"
     ]
    }
   ],
   "source": [
    "customers = spark.read.format('jdbc').options(\n",
    "        url = \"jdbc:postgresql://postgres:5432/postgres?user=postgres&password=postgres&currentSchema=inventory\",\n",
    "        database='postgres',\n",
    "        dbtable='customers'\n",
    "    ).load()\n",
    "\n",
    "customers.show()"
   ]
  },
  {
   "cell_type": "markdown",
   "metadata": {},
   "source": [
    "# Write snapshot to Data Lake"
   ]
  },
  {
   "cell_type": "code",
   "execution_count": 8,
   "metadata": {},
   "outputs": [],
   "source": [
    "customers.write.format(\"parquet\").save(\"/home/jovyan/customers_data\")"
   ]
  },
  {
   "cell_type": "markdown",
   "metadata": {},
   "source": [
    "# Generate some updates on the table"
   ]
  },
  {
   "cell_type": "code",
   "execution_count": 13,
   "metadata": {},
   "outputs": [
    {
     "name": "stdout",
     "output_type": "stream",
     "text": [
      "Collecting psycopg2-binary\n",
      "\u001b[?25l  Downloading https://files.pythonhosted.org/packages/f3/21/b7ccc8ae35e5b6ae62bfe47181353628bae52489c7798f00efd7916de543/psycopg2_binary-2.8.3-cp37-cp37m-manylinux1_x86_64.whl (2.9MB)\n",
      "\u001b[K     |████████████████████████████████| 2.9MB 1.3MB/s eta 0:00:01\n",
      "\u001b[?25hInstalling collected packages: psycopg2-binary\n",
      "Successfully installed psycopg2-binary-2.8.3\n"
     ]
    }
   ],
   "source": [
    "! pip install psycopg2-binary"
   ]
  },
  {
   "cell_type": "code",
   "execution_count": 19,
   "metadata": {},
   "outputs": [
    {
     "name": "stdout",
     "output_type": "stream",
     "text": [
      "Collecting Faker\n",
      "\u001b[?25l  Downloading https://files.pythonhosted.org/packages/52/1a/930431923062857520bae512101a648ef528cd327583fda38d9e76fab5ce/Faker-1.0.7-py2.py3-none-any.whl (874kB)\n",
      "\u001b[K     |████████████████████████████████| 880kB 1.4MB/s eta 0:00:01\n",
      "\u001b[?25hRequirement already satisfied: python-dateutil>=2.4 in /opt/conda/lib/python3.7/site-packages (from Faker) (2.8.0)\n",
      "Collecting text-unidecode==1.2 (from Faker)\n",
      "\u001b[?25l  Downloading https://files.pythonhosted.org/packages/79/42/d717cc2b4520fb09e45b344b1b0b4e81aa672001dd128c180fabc655c341/text_unidecode-1.2-py2.py3-none-any.whl (77kB)\n",
      "\u001b[K     |████████████████████████████████| 81kB 20.6MB/s eta 0:00:01\n",
      "\u001b[?25hRequirement already satisfied: six>=1.10 in /opt/conda/lib/python3.7/site-packages (from Faker) (1.12.0)\n",
      "Installing collected packages: text-unidecode, Faker\n",
      "Successfully installed Faker-1.0.7 text-unidecode-1.2\n"
     ]
    }
   ],
   "source": [
    "! pip install Faker"
   ]
  },
  {
   "cell_type": "code",
   "execution_count": 35,
   "metadata": {},
   "outputs": [],
   "source": [
    "import psycopg2\n",
    "\n",
    "def connect_to_postgres():\n",
    "    conn = psycopg2.connect(\n",
    "        dbname=\"postgres\",\n",
    "        user=\"postgres\",\n",
    "        host=\"postgres\",\n",
    "        password=\"postgres\",\n",
    "        port=5432,\n",
    "        options=f'-c search_path=inventory')\n",
    "    return conn\n",
    "\n",
    "connection = connect_to_postgres()\n",
    "cursor = connection.cursor()\n"
   ]
  },
  {
   "cell_type": "code",
   "execution_count": 82,
   "metadata": {},
   "outputs": [
    {
     "name": "stdout",
     "output_type": "stream",
     "text": [
      "Inserting new customer\n",
      "Updating old customer with id = 1004\n",
      "Deleting customer with id = 1006\n"
     ]
    }
   ],
   "source": [
    "from faker import Faker\n",
    "fake = Faker()\n",
    "\n",
    "def insert_new_customer(connection, cursor):\n",
    "    cursor.execute(\"INSERT INTO customers (first_name, last_name, email) VALUES(%s, %s, %s)\", (fake.first_name(),fake.last_name(),fake.email()))\n",
    "    print(\"Inserting new customer\")\n",
    "    connection.commit()\n",
    "\n",
    "def update_old_customer(connection, cursor):\n",
    "    cursor.execute(\"select id from customers ORDER BY random()\")\n",
    "    customer_id = cursor.fetchone()[0]\n",
    "    cursor.execute(\"UPDATE customers SET email = %s where id = %s\", (fake.email(),customer_id))\n",
    "    print(\"Updating old customer with id = %s\" % customer_id)\n",
    "    connection.commit()\n",
    "    \n",
    "def delete_customer(connection, cursor):\n",
    "    cursor.execute(\"select id from customers where id>1005 ORDER BY random()\")\n",
    "    customer_id = cursor.fetchone()[0]\n",
    "    cursor.execute(\"DELETE FROM customers where id = %s\", (customer_id,))\n",
    "    print(\"Deleting customer with id = %s\" % customer_id  )\n",
    "    connection.commit()\n",
    "    \n",
    "    \n",
    "insert_new_customer(connection, cursor)\n",
    "update_old_customer(connection, cursor)\n",
    "delete_customer(connection, cursor)\n",
    "\n",
    "\n",
    "\n"
   ]
  },
  {
   "cell_type": "code",
   "execution_count": 86,
   "metadata": {},
   "outputs": [],
   "source": [
    "import numpy as np\n",
    "\n",
    "def generate_operation():\n",
    "    randomizer = np.random.uniform()\n",
    "    if randomizer>0.9:\n",
    "        delete_customer(connection, cursor)\n",
    "    elif (randomizer>0.7 and randomizer<=0.9):\n",
    "        update_old_customer(connection, cursor)\n",
    "    else:\n",
    "        insert_new_customer(connection, cursor)"
   ]
  },
  {
   "cell_type": "code",
   "execution_count": 87,
   "metadata": {
    "scrolled": true
   },
   "outputs": [
    {
     "name": "stdout",
     "output_type": "stream",
     "text": [
      "Inserting new customer\n",
      "Inserting new customer\n",
      "Inserting new customer\n",
      "Inserting new customer\n",
      "Inserting new customer\n",
      "Inserting new customer\n",
      "Inserting new customer\n",
      "Inserting new customer\n",
      "Updating old customer with id = 1001\n",
      "Inserting new customer\n",
      "Inserting new customer\n",
      "Updating old customer with id = 1003\n",
      "Updating old customer with id = 1025\n",
      "Inserting new customer\n",
      "Deleting customer with id = 1019\n",
      "Updating old customer with id = 1026\n",
      "Inserting new customer\n",
      "Inserting new customer\n",
      "Inserting new customer\n",
      "Updating old customer with id = 1020\n",
      "Updating old customer with id = 1010\n",
      "Inserting new customer\n",
      "Updating old customer with id = 1020\n",
      "Updating old customer with id = 1013\n",
      "Inserting new customer\n",
      "Inserting new customer\n",
      "Updating old customer with id = 1013\n",
      "Updating old customer with id = 1023\n",
      "Inserting new customer\n",
      "Inserting new customer\n",
      "Inserting new customer\n",
      "Inserting new customer\n",
      "Inserting new customer\n",
      "Inserting new customer\n",
      "Updating old customer with id = 1033\n",
      "Inserting new customer\n",
      "Inserting new customer\n",
      "Inserting new customer\n",
      "Updating old customer with id = 1031\n",
      "Deleting customer with id = 1025\n",
      "Updating old customer with id = 1017\n",
      "Updating old customer with id = 1005\n",
      "Inserting new customer\n",
      "Inserting new customer\n",
      "Inserting new customer\n",
      "Updating old customer with id = 1031\n",
      "Inserting new customer\n",
      "Inserting new customer\n",
      "Inserting new customer\n",
      "Updating old customer with id = 1015\n",
      "Updating old customer with id = 1034\n",
      "Updating old customer with id = 1041\n",
      "Inserting new customer\n",
      "Inserting new customer\n",
      "Updating old customer with id = 1021\n",
      "Updating old customer with id = 1011\n",
      "Updating old customer with id = 1024\n",
      "Inserting new customer\n",
      "Updating old customer with id = 1036\n",
      "Inserting new customer\n",
      "Inserting new customer\n",
      "Inserting new customer\n",
      "Inserting new customer\n",
      "Updating old customer with id = 1013\n",
      "Inserting new customer\n",
      "Inserting new customer\n",
      "Inserting new customer\n",
      "Inserting new customer\n",
      "Inserting new customer\n",
      "Inserting new customer\n",
      "Updating old customer with id = 1021\n",
      "Updating old customer with id = 1014\n",
      "Inserting new customer\n",
      "Updating old customer with id = 1021\n",
      "Inserting new customer\n",
      "Inserting new customer\n",
      "Inserting new customer\n",
      "Deleting customer with id = 1048\n",
      "Inserting new customer\n",
      "Inserting new customer\n",
      "Inserting new customer\n",
      "Inserting new customer\n",
      "Updating old customer with id = 1016\n",
      "Inserting new customer\n",
      "Inserting new customer\n",
      "Updating old customer with id = 1067\n",
      "Deleting customer with id = 1041\n",
      "Inserting new customer\n",
      "Deleting customer with id = 1027\n",
      "Inserting new customer\n"
     ]
    },
    {
     "ename": "KeyboardInterrupt",
     "evalue": "",
     "output_type": "error",
     "traceback": [
      "\u001b[0;31m---------------------------------------------------------------------------\u001b[0m",
      "\u001b[0;31mKeyboardInterrupt\u001b[0m                         Traceback (most recent call last)",
      "\u001b[0;32m<ipython-input-87-2d91ef458b08>\u001b[0m in \u001b[0;36m<module>\u001b[0;34m\u001b[0m\n\u001b[1;32m      7\u001b[0m     \u001b[0mops_counter\u001b[0m \u001b[0;34m=\u001b[0m \u001b[0mops_counter\u001b[0m \u001b[0;34m+\u001b[0m \u001b[0;36m1\u001b[0m\u001b[0;34m\u001b[0m\u001b[0;34m\u001b[0m\u001b[0m\n\u001b[1;32m      8\u001b[0m     \u001b[0;32mif\u001b[0m \u001b[0mops_counter\u001b[0m \u001b[0;34m%\u001b[0m \u001b[0;36m10\u001b[0m \u001b[0;34m==\u001b[0m \u001b[0;36m0\u001b[0m\u001b[0;34m:\u001b[0m\u001b[0;34m\u001b[0m\u001b[0;34m\u001b[0m\u001b[0m\n\u001b[0;32m----> 9\u001b[0;31m         \u001b[0mtime\u001b[0m\u001b[0;34m.\u001b[0m\u001b[0msleep\u001b[0m\u001b[0;34m(\u001b[0m\u001b[0;36m5\u001b[0m\u001b[0;34m)\u001b[0m\u001b[0;34m\u001b[0m\u001b[0;34m\u001b[0m\u001b[0m\n\u001b[0m",
      "\u001b[0;31mKeyboardInterrupt\u001b[0m: "
     ]
    }
   ],
   "source": [
    "import time \n",
    "\n",
    "ops_counter = 0\n",
    "\n",
    "while True:\n",
    "    generate_operation()\n",
    "    ops_counter = ops_counter + 1\n",
    "    if ops_counter % 10 == 0:\n",
    "        time.sleep(5)"
   ]
  },
  {
   "cell_type": "code",
   "execution_count": null,
   "metadata": {},
   "outputs": [],
   "source": []
  }
 ],
 "metadata": {
  "kernelspec": {
   "display_name": "Python 3",
   "language": "python",
   "name": "python3"
  },
  "language_info": {
   "codemirror_mode": {
    "name": "ipython",
    "version": 3
   },
   "file_extension": ".py",
   "mimetype": "text/x-python",
   "name": "python",
   "nbconvert_exporter": "python",
   "pygments_lexer": "ipython3",
   "version": "3.7.3"
  }
 },
 "nbformat": 4,
 "nbformat_minor": 2
}
